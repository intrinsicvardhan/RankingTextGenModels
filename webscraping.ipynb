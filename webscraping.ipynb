{
 "cells": [
  {
   "cell_type": "markdown",
   "metadata": {},
   "source": [
    "## Defining Functions to scrape text off articles present online"
   ]
  },
  {
   "cell_type": "code",
   "execution_count": 48,
   "metadata": {},
   "outputs": [],
   "source": [
    "from bs4 import BeautifulSoup\n",
    "import requests\n",
    "import pickle\n",
    "\n",
    "def medicine_articles(url):\n",
    "    '''\n",
    "    Scrapes text from articles specifically from medscape.com\n",
    "    '''\n",
    "    page = requests.get(url).text\n",
    "    soup = BeautifulSoup(page, \"html.parser\")\n",
    "    \n",
    "    headline_tag = soup.find('h1', class_ = 'headline')\n",
    "    headline = headline_tag.text if headline_tag else None\n",
    "\n",
    "    paras = soup.find_all('p')\n",
    "    para_text = [p.text for p in paras]\n",
    "\n",
    "    text = {'headline':headline, 'paragraphs': para_text}\n",
    "\n",
    "    return text\n",
    "\n",
    "def sports_article(url):\n",
    "    '''\n",
    "    Scrapes text from sports articles specifically from espn.in\n",
    "    '''\n",
    "    page = requests.get(url).text\n",
    "    soup = BeautifulSoup(page, \"html.parser\")\n",
    "    \n",
    "    headline_tag = soup.find('h1')\n",
    "    headline = headline_tag.text if headline_tag else None\n",
    "\n",
    "    paras = soup.find_all('p', style = \"\")\n",
    "    para_text = [p.text for p in paras]\n",
    "\n",
    "    text = {'headline': headline, 'paragraphs': para_text}\n",
    "\n",
    "    return text\n",
    "\n",
    "def politics_article(url):\n",
    "    '''\n",
    "    Scrapes text from political articles specifically from politico.com\n",
    "    '''\n",
    "    page = requests.get(url).text\n",
    "    soup = BeautifulSoup(page, \"html.parser\")\n",
    "\n",
    "    headline_tag = soup.find('h2', class_ = 'headline')\n",
    "    headline = headline_tag.text if headline_tag else None\n",
    "\n",
    "    paras = soup.find_all('p', class_ = 'story-text__paragraph')\n",
    "    para_text = [p.text for p in paras] \n",
    "    \n",
    "    result = {'headline': headline, 'paragraphs': para_text}\n",
    "\n",
    "    return result\n"
   ]
  },
  {
   "cell_type": "markdown",
   "metadata": {},
   "source": [
    "## Scraping Politics texts from politico.com"
   ]
  },
  {
   "cell_type": "code",
   "execution_count": 36,
   "metadata": {},
   "outputs": [],
   "source": [
    "politics_urls = ['https://www.politico.com/news/2024/01/31/gender-poll-2024-biden-trump-00138882',\n",
    "                 'https://www.politico.com/news/2024/01/30/biden-us-response-jordan-attack-00138547',\n",
    "                 'https://www.politico.com/news/2024/01/31/trump-us-steel-sale-00138910',\n",
    "                'https://www.politico.com/news/2024/01/31/islamic-resistance-iraq-jordan-drone-strike-00138866']\n",
    "articles_politics = ['gender_poll', 'jordan_attack', 'us_steel_sale','iraq_jordan']"
   ]
  },
  {
   "cell_type": "code",
   "execution_count": 32,
   "metadata": {},
   "outputs": [],
   "source": [
    "politics_texts = [politics_article(url) for url in politics_urls]"
   ]
  },
  {
   "cell_type": "code",
   "execution_count": 37,
   "metadata": {},
   "outputs": [
    {
     "name": "stdout",
     "output_type": "stream",
     "text": [
      "\n",
      "Gender gap expands between Biden and Trump, new poll shows\n",
      "\n",
      "\n",
      "Biden says US knows how it will respond to Jordan attack\n",
      "\n",
      "\n",
      "Trump pledges to block US Steel sale\n",
      "\n",
      "\n",
      "Islamic Resistance in Iraq group is to blame for Jordan drone strike that killed 3 troops, US says\n",
      "\n"
     ]
    }
   ],
   "source": [
    "for politics_text in politics_texts:\n",
    "    print(politics_text['headline'])"
   ]
  },
  {
   "cell_type": "code",
   "execution_count": 42,
   "metadata": {},
   "outputs": [
    {
     "name": "stderr",
     "output_type": "stream",
     "text": [
      "A subdirectory or file politics_text already exists.\n"
     ]
    }
   ],
   "source": [
    "!mkdir politics_text\n",
    "for i, c in enumerate(articles_politics):\n",
    "    with open(\"politics_text/\"+c+\".txt\", \"wb\") as file:\n",
    "        pickle.dump(politics_texts[i], file)\n"
   ]
  },
  {
   "cell_type": "code",
   "execution_count": 43,
   "metadata": {},
   "outputs": [],
   "source": [
    "data = {}\n",
    "for c in articles_politics:\n",
    "    with open(\"politics_text/\"+c+\".txt\", \"rb\") as file: \n",
    "        data[c] = pickle.load(file)"
   ]
  },
  {
   "cell_type": "code",
   "execution_count": 45,
   "metadata": {},
   "outputs": [
    {
     "data": {
      "text/plain": [
       "dict_keys(['gender_poll', 'jordan_attack', 'us_steel_sale', 'iraq_jordan'])"
      ]
     },
     "execution_count": 45,
     "metadata": {},
     "output_type": "execute_result"
    }
   ],
   "source": [
    "data.keys()"
   ]
  },
  {
   "cell_type": "code",
   "execution_count": 47,
   "metadata": {},
   "outputs": [
    {
     "data": {
      "text/plain": [
       "'\\nGender gap expands between Biden and Trump, new poll shows\\n'"
      ]
     },
     "execution_count": 47,
     "metadata": {},
     "output_type": "execute_result"
    }
   ],
   "source": [
    "data['gender_poll']['headline']"
   ]
  },
  {
   "cell_type": "markdown",
   "metadata": {},
   "source": [
    "## Scraping Sports texts off espn.in"
   ]
  },
  {
   "cell_type": "code",
   "execution_count": null,
   "metadata": {},
   "outputs": [],
   "source": [
    "sports_urls =[]"
   ]
  }
 ],
 "metadata": {
  "kernelspec": {
   "display_name": "Python 3",
   "language": "python",
   "name": "python3"
  },
  "language_info": {
   "codemirror_mode": {
    "name": "ipython",
    "version": 3
   },
   "file_extension": ".py",
   "mimetype": "text/x-python",
   "name": "python",
   "nbconvert_exporter": "python",
   "pygments_lexer": "ipython3",
   "version": "3.11.3"
  }
 },
 "nbformat": 4,
 "nbformat_minor": 2
}
