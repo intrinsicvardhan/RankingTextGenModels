{
 "cells": [
  {
   "cell_type": "markdown",
   "metadata": {},
   "source": [
    "## Data Cleaning\n",
    "-   When dealing with textual data, we need to get rid it of some of the useless characteers it may contain\n",
    "-   Loading them using pickle"
   ]
  },
  {
   "cell_type": "code",
   "execution_count": 1,
   "metadata": {},
   "outputs": [],
   "source": [
    "articles_politics = ['gender_poll', 'jordan_attack', 'us_steel_sale','iraq_jordan']\n",
    "articles_sports = ['f1_lewis_hamilton', 'virat_kohli', 'bopanna_ao', 'nagal_ao']\n",
    "articles_medicine = ['risk_healthcare_workers', 'impact_weight_juices', 'early_bone_loss', 'burnout_risk']\n",
    "\n"
   ]
  },
  {
   "cell_type": "code",
   "execution_count": 2,
   "metadata": {},
   "outputs": [],
   "source": [
    "politics_data = {}\n",
    "medicine_data = {}\n",
    "sports_data = {}\n",
    "import pickle \n",
    "for a1, a2, a3 in zip(articles_politics, articles_sports, articles_medicine): \n",
    "    with open(\"politics_text/\"+a1+\".txt\", \"rb\") as file: \n",
    "        politics_data[a1] = pickle.load(file)\n",
    "    with open(\"sports_text/\"+a2+\".txt\", \"rb\") as file: \n",
    "        sports_data[a2] = pickle.load(file)\n",
    "    with open(\"medicine_text/\"+a3+\".txt\", \"rb\") as file: \n",
    "        medicine_data[a3] = pickle.load(file)"
   ]
  },
  {
   "cell_type": "code",
   "execution_count": 3,
   "metadata": {},
   "outputs": [
    {
     "data": {
      "text/plain": [
       "{'gender_poll': {'headline': '\\nGender gap expands between Biden and Trump, new poll shows\\n',\n",
       "  'paragraphs': ['The gender gap is growing between supporters of President Joe Biden and former President Donald Trump, according to a new Quinnipiac University \\npoll of registered voters.',\n",
       "   'And that’s good news for the Democratic incumbent: Biden holds a slight lead over Trump in Wednesday’s 2024 presidential election poll, 50 percent to 44 percent. The same matchup was “too close to call” just a month ago.',\n",
       "   'More women said they would support Biden over Trump in this latest survey, with 58 percent backing Biden and 36 percent backing Trump. Last month, the Quinnipiac poll found 53 percent of women supported the incumbent Democrat, compared to 41 percent for the Republican challenger.',\n",
       "   'The numbers were relatively unchanged for men — 53 percent of men said they’d vote for Trump and 42 percent chose Biden in the latest poll, compared to 51 percent for Biden and 41 percent for Trump in December.',\n",
       "   '“The gender demographic tells a story to keep an eye on,” Quinnipiac University polling analyst Tim Malloy said in a statement. “Propelled by female voters in just the past few weeks, the head-to-head tie with Trump morphs into a modest lead for Biden.”',\n",
       "   'It’s a different story for former South Carolina Gov. Nikki Haley, who trails far behind Trump in the Republican primary. The poll found Haley would do better than Trump in a general election, with 47 percent of respondents supporting Haley and 42 percent supporting Biden.',\n",
       "   'Haley’s support comes largely from independents, with 53 percent saying they’d vote for her. Another 37 percent would back Biden. In the same poll, 52 percent of independents said they’d support Biden over Trump, who’d have the support of 40 percent of respondents.',\n",
       "   '“In a head-to-head matchup against Biden, Haley outperforms Trump, thanks to independents,” Malloy said. “Add third party candidates to the mix and her numbers slip in part because of her weakness among Republicans.”',\n",
       "   'The poll surveyed 1,650 self-identified registered voters nationwide from Jan. 25 to 29, with a margin of error of plus-or-minus 2.4 percentage points. Surveys conducted by Quinnipiac University are based on random sampling.']},\n",
       " 'jordan_attack': {'headline': '\\nBiden says US knows how it will respond to Jordan attack\\n',\n",
       "  'paragraphs': ['President Joe Biden said Tuesday that he’s decided how the U.S. will retaliate after a drone strike in Jordan killed three American soldiers.',\n",
       "   'Biden did not detail how the administration plans to respond, or when those actions would be taken. But the expectation is that it will come soon and possibly in waves over the days ahead.',\n",
       "   'During a brief back-and-forth with reporters outside the White House, Biden said he’s not seeking a war with Iran, even though he held the nation somewhat responsible for the attack.',\n",
       "   '“I do hold them responsible in the sense that they’re supplying the weapons to the people who did it,” Biden said as he left for campaign events in Florida. “I don’t think we need a wider war in the Middle East. That’s not what I’m looking for.”',\n",
       "   'The remarks were Biden’s first since Sunday after news broke about the weekend drone strike launched by Iranian proxies on a U.S. base in Jordan that killed three troops and wounded dozens more. Biden spoke briefly at the time, saying the U.S. “shall respond.” He then spent much of Monday huddling with his national security team, weighing options for a response.',\n",
       "   'Later on Tuesday, news surfaced that Kataib Hezbollah, an Iran-backed militant group in Iraq, \\nwas halting operations against the U.S.',\n",
       "   '“Actions speak louder than words,” Maj. Gen. Pat Ryder told reporters when asked for comment, adding “there will be consequences.”',\n",
       "   'The U.S. has yet to blame a specific group for the attack, but on Monday, Pentagon spokesperson Sabrina Singh told reporters that the drone attack had “the footprints” of Kataib Hezbollah.',\n",
       "   'On Tuesday morning, Biden spoke with each of the three soldiers’ families, where he offered condolences and support, National Security Council spokesperson John Kirby told reporters. Biden is planning to attend those soldiers’ dignified transfer at Dover Air Force Base on Friday, after all three of the families gave their permission. ',\n",
       "   'The White House has refused to specify what choices were presented to Biden, vowing only to respond forcefully on its own schedule. Yet \\namong the possibilities, officials told POLITICO, were striking Iranian personnel in Syria or Iraq or Iranian naval assets in the Persian Gulf.',\n",
       "   'White House officials have also stressed that, even as the U.S. is obligated to retaliate, there’s little appetite for escalating the already tense situation across the region.',\n",
       "   '“We do not seek another war. We do not seek to escalate,” Kirby said Monday. “But we will absolutely do what is required.”',\n",
       "   'Lara Seligman and Jonathan Lemire contributed to this report.']},\n",
       " 'us_steel_sale': {'headline': '\\nTrump pledges to block US Steel sale\\n',\n",
       "  'paragraphs': ['Former President Donald Trump on Wednesday said he would block U.S. Steel’s planned sale to a Japanese company, the first time the GOP presidential candidate has weighed in on the controversial acquisition announced late last year.',\n",
       "   '“I would block it instantaneously. Absolutely,” Trump said after a meeting with the president of the Teamsters labor union, which represents workers in the transportation industry. “We saved the steel industry. Now, U.S. Steel is being bought by Japan. So terrible.”',\n",
       "   'The brief remarks are Trump’s first comments on Nippon Steel’s $15 billion deal to purchase the iconic American company. His 2024 presidential campaign \\ndeclined requests to comment on the sale when it was first announced in December, despite his aggressive protectionist policies aimed at the steel industry and other manufacturing sectors when he was president. But Trump made clear Wednesday that, if re-elected, he intends to take even more extreme measures to limit trade as he attempted to appeal to the Teamsters’ 1.3 million members.',\n",
       "   '“We want to bring jobs back to the country, and sometimes tariffs can do that,” Trump said in a speech in Washington, D.C., adding that “we started that process” during his first term, “and we will finish it up” if he is reelected.',\n",
       "   'Trump declined to explain exactly how he might block the U.S. steel sale if he returns to the White House. But other critics of the sale in both parties have called on the Biden administration to use all the powers at its disposal to keep the deal from going through, arguing it will hurt unionized workers.',\n",
       "   'President Biden’s economic team has indicated it will give the acquisition “serious scrutiny” as part of a review overseen by the Committee on Foreign Investments in the U.S., which probes deals involving foreign entities.',\n",
       "   'Trump was also vague Wednesday on his plans for a new wave of tariffs on imports from foreign trading partners. In his first term, Trump levied tariffs on more than $360 billion worth of imports from China — policies Biden has largely kept in place.',\n",
       "   'In recent months, the former president has expressed support for raising tariffs even further, by repealing normal trade relations with Beijing, which could increase tariffs on Chinese goods to as much as 40 percent. And \\nTrump advisers are reportedly considering plans to go even further — pushing tariffs on Chinese imports as high as 60 percent, while setting a 10 percent tariff for all other imports.',\n",
       "   'Asked about those reports after his Teamsters meeting, Trump was evasive.',\n",
       "   '“We’re going to see what happens,” he said. “What I want to do is bring back manufacturing into our country. I want to make the cars sold by China here, in the United States, and I think we’ll do that.”']},\n",
       " 'iraq_jordan': {'headline': '\\nIslamic Resistance in Iraq group is to blame for Jordan drone strike that killed 3 troops, US says\\n',\n",
       "  'paragraphs': ['WASHINGTON — The United States on Wednesday attributed the drone attack that killed three U.S. service members in Jordan to the Islamic Resistance in Iraq, an umbrella group of Iran-backed militias, as President Joe Biden weighs his response options to the strike.',\n",
       "   'The attribution comes as Iran threatened on Wednesday to “decisively respond” to any U.S. attack on the Islamic Republic after the U.S. said it holds \\nTehran responsible. The U.S. has signaled it is preparing for retaliatory strikes in the Mideast in the wake of the Sunday drone attack that also wounded at least 40 troops at \\nTower 22, a secretive base in northeastern Jordan that’s been crucial to the American presence in neighboring Syria.',\n",
       "   'National Security Council spokesman John Kirby said Wednesday the U.S. believes the attack was planned, resourced and facilitated by the Islamic Resistance in Iraq, an umbrella group that includes the militant group Kataib Hezbollah. He said Biden “believes that it is important to respond in an appropriate way.”',\n",
       "   'Kirby said Biden was continuing to weigh retaliation options to the attack but said “the first thing you see won’t be the last thing,” adding it “won’t be a one-off.”',\n",
       "   'Kirby dismissed a statement by Iraqi militia \\nKataib Hezbollah announcing “the suspension of military and security operations against the occupation forces in order to prevent embarrassment to the Iraqi government.” He said that the group can’t be taken at face value, and he added, “they’re not the only group that has been attacking us.”',\n",
       "   'Biden, meanwhile, is set to attend the somber return of the fallen troops to U.S. soil on Friday at Dover Air Force Base in Delaware, known as a dignified transfer, the White House announced.',\n",
       "   'Any \\nadditional American strikes could further inflame a region already roiled by \\nIsrael’s ongoing war on Hamas in the Gaza Strip. The war began with Hamas \\nattacking Israel on Oct. 7, killing some 1,200 people and taking about 250 hostage. Since then, Israeli strikes have killed \\nmore than 26,000 Palestinians and displaced nearly 2 million others from their homes, arousing anger throughout the Muslim world.',\n",
       "   'Violence has erupted across the Mideast, with Iran striking targets in Iraq, Pakistan and Syria, and the U.S. carrying out airstrikes targeting Yemen’s Houthi rebels over their attacks shipping in the Red Sea. Some observers fear a new round of strikes targeting Iran could tip the region into a wider war.',\n",
       "   'A U.S. Navy destroyer in the waterway shot down an anti-ship cruise missile launched by \\nthe Houthis late Tuesday, the latest attack \\ntargeting American forces patrolling the key maritime trade route, officials said. The U.S. later launched a new round of airstrikes targeting the Houthis.',\n",
       "   'The Iranian warnings first came from \\nAmir Saeid Iravani, Iran’s ambassador to the United Nations in New York. He gave a briefing to Iranian journalists late Tuesday, according to the state-run IRNA news agency.',\n",
       "   '“The Islamic Republic would decisively respond to any attack on the county, its interests and nationals under any pretexts,” IRNA quoted Iravani as saying. He described any possible Iranian retaliation as a “strong response,” without elaborating.',\n",
       "   'The Iranian mission to the U.N. did not respond to requests for comment or elaboration Wednesday on Iravani’s remarks.',\n",
       "   'Iravani also denied that Iran and the U.S. had exchanged any messages over the last few days, either through intermediaries or directly. The pan-Arab satellite channel Al Jazeera, which is based in and funded by Qatar, reported earlier that such communication had taken place. Qatar often serves as an intermediary between Washington and Tehran.',\n",
       "   '“Such messages have not been exchanged,” Iravani said.',\n",
       "   'But Iran’s government has taken note of the U.S. threats of retaliation for the attack on the base in Jordan.',\n",
       "   '“Sometime, our enemies raise the threat, and nowadays we hear some threats in between words by American officials,” Revolutionary Guard commander Gen. Hossein Salami, who answers only to Supreme Leader \\nAyatollah Ali Khamenei, said at an event Wednesday. “We tell them that you have experienced us, and we know each other. We do not leave any threat without an answer.”',\n",
       "   '“We are not after war, but we have no fear of war,” he added, according to IRNA.',\n",
       "   'Kirby, for his part, said the U.S. doesn’t “seek a war with Iran. We’re not looking for a broader conflict.”',\n",
       "   'On Saturday, a general in charge of Iran’s air defenses described them as being at their “highest defensive readiness.” That raises concerns for commercial aviation traveling through and over Iran as well. After a \\nU.S. drone strike killed a top general in 2020, Iranian air defenses mistakenly shot down a Ukrainian passenger plane, killing all 176 people on board.',\n",
       "   'Meanwhile, attacks by the Iranian-backed Houthi rebels continue in the Red Sea, most recently targeting a U.S. warship. The missile launched Tuesday night targeted the USS Gravely, an Arleigh Burke-class guided missile destroyer, the U.S. military’s Central Command said in a statement. No injuries or damage were reported.',\n",
       "   'A Houthi military spokesman, Brig. Gen. Yahya Saree, claimed responsibility for the attack in a statement Wednesday morning, calling it “a victory for the oppression of the Palestinian people and a response to the American-British aggression against our country.”',\n",
       "   'Saree claimed \\nthe Houthis fired “several” missiles, something not acknowledged by the U.S. Navy. Houthi claims have been exaggerated in the past, and their missiles sometimes crash on land and fail to reach their targets.',\n",
       "   'The Houthis claimed without evidence on Monday to have targeted the USS Lewis B. Puller, a floating landing base used by the Navy SEALs and others. The U.S. said there had been no attack.',\n",
       "   'On Wednesday, a U.S. military jet struck a surface-to-air missile that was about to launch from Houthi-controlled Yemen, a U.S. official said. The missile was deemed an immediate threat and destroyed. The official spoke on the condition of anonymity to provide details ahead of a public announcement.',\n",
       "   'Since November, the rebels have repeatedly targeted ships in the Red Sea over \\nIsrael’s offensive against Hamas in Gaza. But they have frequently targeted vessels with tenuous or no clear links to Israel, imperiling shipping in \\na key route for global trade between Asia, the Mideast and Europe.',\n",
       "   'The Houthis hit a commercial vessel with a missile on Friday, \\nsparking a fire that burned for hours.',\n",
       "   'The U.S. and the United Kingdom have launched multiple rounds of airstrikes targeting the Houthis as allied warships patrol the waterways affected by the attacks. The European Union also plans to \\nlaunch a naval mission in the Red Sea within three weeks to help defend cargo ships against the Houthi attacks, the bloc’s top diplomat said Wednesday.']}}"
      ]
     },
     "execution_count": 3,
     "metadata": {},
     "output_type": "execute_result"
    }
   ],
   "source": [
    "politics_data"
   ]
  },
  {
   "cell_type": "code",
   "execution_count": 4,
   "metadata": {},
   "outputs": [
    {
     "data": {
      "text/plain": [
       "dict_keys(['gender_poll', 'jordan_attack', 'us_steel_sale', 'iraq_jordan'])"
      ]
     },
     "execution_count": 4,
     "metadata": {},
     "output_type": "execute_result"
    }
   ],
   "source": [
    "politics_data.keys()"
   ]
  },
  {
   "cell_type": "code",
   "execution_count": 5,
   "metadata": {},
   "outputs": [
    {
     "data": {
      "text/plain": [
       "dict_items([('gender_poll', {'headline': '\\nGender gap expands between Biden and Trump, new poll shows\\n', 'paragraphs': ['The gender gap is growing between supporters of President Joe Biden and former President Donald Trump, according to a new Quinnipiac University \\npoll of registered voters.', 'And that’s good news for the Democratic incumbent: Biden holds a slight lead over Trump in Wednesday’s 2024 presidential election poll, 50 percent to 44 percent. The same matchup was “too close to call” just a month ago.', 'More women said they would support Biden over Trump in this latest survey, with 58 percent backing Biden and 36 percent backing Trump. Last month, the Quinnipiac poll found 53 percent of women supported the incumbent Democrat, compared to 41 percent for the Republican challenger.', 'The numbers were relatively unchanged for men — 53 percent of men said they’d vote for Trump and 42 percent chose Biden in the latest poll, compared to 51 percent for Biden and 41 percent for Trump in December.', '“The gender demographic tells a story to keep an eye on,” Quinnipiac University polling analyst Tim Malloy said in a statement. “Propelled by female voters in just the past few weeks, the head-to-head tie with Trump morphs into a modest lead for Biden.”', 'It’s a different story for former South Carolina Gov. Nikki Haley, who trails far behind Trump in the Republican primary. The poll found Haley would do better than Trump in a general election, with 47 percent of respondents supporting Haley and 42 percent supporting Biden.', 'Haley’s support comes largely from independents, with 53 percent saying they’d vote for her. Another 37 percent would back Biden. In the same poll, 52 percent of independents said they’d support Biden over Trump, who’d have the support of 40 percent of respondents.', '“In a head-to-head matchup against Biden, Haley outperforms Trump, thanks to independents,” Malloy said. “Add third party candidates to the mix and her numbers slip in part because of her weakness among Republicans.”', 'The poll surveyed 1,650 self-identified registered voters nationwide from Jan. 25 to 29, with a margin of error of plus-or-minus 2.4 percentage points. Surveys conducted by Quinnipiac University are based on random sampling.']}), ('jordan_attack', {'headline': '\\nBiden says US knows how it will respond to Jordan attack\\n', 'paragraphs': ['President Joe Biden said Tuesday that he’s decided how the U.S. will retaliate after a drone strike in Jordan killed three American soldiers.', 'Biden did not detail how the administration plans to respond, or when those actions would be taken. But the expectation is that it will come soon and possibly in waves over the days ahead.', 'During a brief back-and-forth with reporters outside the White House, Biden said he’s not seeking a war with Iran, even though he held the nation somewhat responsible for the attack.', '“I do hold them responsible in the sense that they’re supplying the weapons to the people who did it,” Biden said as he left for campaign events in Florida. “I don’t think we need a wider war in the Middle East. That’s not what I’m looking for.”', 'The remarks were Biden’s first since Sunday after news broke about the weekend drone strike launched by Iranian proxies on a U.S. base in Jordan that killed three troops and wounded dozens more. Biden spoke briefly at the time, saying the U.S. “shall respond.” He then spent much of Monday huddling with his national security team, weighing options for a response.', 'Later on Tuesday, news surfaced that Kataib Hezbollah, an Iran-backed militant group in Iraq, \\nwas halting operations against the U.S.', '“Actions speak louder than words,” Maj. Gen. Pat Ryder told reporters when asked for comment, adding “there will be consequences.”', 'The U.S. has yet to blame a specific group for the attack, but on Monday, Pentagon spokesperson Sabrina Singh told reporters that the drone attack had “the footprints” of Kataib Hezbollah.', 'On Tuesday morning, Biden spoke with each of the three soldiers’ families, where he offered condolences and support, National Security Council spokesperson John Kirby told reporters. Biden is planning to attend those soldiers’ dignified transfer at Dover Air Force Base on Friday, after all three of the families gave their permission. ', 'The White House has refused to specify what choices were presented to Biden, vowing only to respond forcefully on its own schedule. Yet \\namong the possibilities, officials told POLITICO, were striking Iranian personnel in Syria or Iraq or Iranian naval assets in the Persian Gulf.', 'White House officials have also stressed that, even as the U.S. is obligated to retaliate, there’s little appetite for escalating the already tense situation across the region.', '“We do not seek another war. We do not seek to escalate,” Kirby said Monday. “But we will absolutely do what is required.”', 'Lara Seligman and Jonathan Lemire contributed to this report.']}), ('us_steel_sale', {'headline': '\\nTrump pledges to block US Steel sale\\n', 'paragraphs': ['Former President Donald Trump on Wednesday said he would block U.S. Steel’s planned sale to a Japanese company, the first time the GOP presidential candidate has weighed in on the controversial acquisition announced late last year.', '“I would block it instantaneously. Absolutely,” Trump said after a meeting with the president of the Teamsters labor union, which represents workers in the transportation industry. “We saved the steel industry. Now, U.S. Steel is being bought by Japan. So terrible.”', 'The brief remarks are Trump’s first comments on Nippon Steel’s $15 billion deal to purchase the iconic American company. His 2024 presidential campaign \\ndeclined requests to comment on the sale when it was first announced in December, despite his aggressive protectionist policies aimed at the steel industry and other manufacturing sectors when he was president. But Trump made clear Wednesday that, if re-elected, he intends to take even more extreme measures to limit trade as he attempted to appeal to the Teamsters’ 1.3 million members.', '“We want to bring jobs back to the country, and sometimes tariffs can do that,” Trump said in a speech in Washington, D.C., adding that “we started that process” during his first term, “and we will finish it up” if he is reelected.', 'Trump declined to explain exactly how he might block the U.S. steel sale if he returns to the White House. But other critics of the sale in both parties have called on the Biden administration to use all the powers at its disposal to keep the deal from going through, arguing it will hurt unionized workers.', 'President Biden’s economic team has indicated it will give the acquisition “serious scrutiny” as part of a review overseen by the Committee on Foreign Investments in the U.S., which probes deals involving foreign entities.', 'Trump was also vague Wednesday on his plans for a new wave of tariffs on imports from foreign trading partners. In his first term, Trump levied tariffs on more than $360 billion worth of imports from China — policies Biden has largely kept in place.', 'In recent months, the former president has expressed support for raising tariffs even further, by repealing normal trade relations with Beijing, which could increase tariffs on Chinese goods to as much as 40 percent. And \\nTrump advisers are reportedly considering plans to go even further — pushing tariffs on Chinese imports as high as 60 percent, while setting a 10 percent tariff for all other imports.', 'Asked about those reports after his Teamsters meeting, Trump was evasive.', '“We’re going to see what happens,” he said. “What I want to do is bring back manufacturing into our country. I want to make the cars sold by China here, in the United States, and I think we’ll do that.”']}), ('iraq_jordan', {'headline': '\\nIslamic Resistance in Iraq group is to blame for Jordan drone strike that killed 3 troops, US says\\n', 'paragraphs': ['WASHINGTON — The United States on Wednesday attributed the drone attack that killed three U.S. service members in Jordan to the Islamic Resistance in Iraq, an umbrella group of Iran-backed militias, as President Joe Biden weighs his response options to the strike.', 'The attribution comes as Iran threatened on Wednesday to “decisively respond” to any U.S. attack on the Islamic Republic after the U.S. said it holds \\nTehran responsible. The U.S. has signaled it is preparing for retaliatory strikes in the Mideast in the wake of the Sunday drone attack that also wounded at least 40 troops at \\nTower 22, a secretive base in northeastern Jordan that’s been crucial to the American presence in neighboring Syria.', 'National Security Council spokesman John Kirby said Wednesday the U.S. believes the attack was planned, resourced and facilitated by the Islamic Resistance in Iraq, an umbrella group that includes the militant group Kataib Hezbollah. He said Biden “believes that it is important to respond in an appropriate way.”', 'Kirby said Biden was continuing to weigh retaliation options to the attack but said “the first thing you see won’t be the last thing,” adding it “won’t be a one-off.”', 'Kirby dismissed a statement by Iraqi militia \\nKataib Hezbollah announcing “the suspension of military and security operations against the occupation forces in order to prevent embarrassment to the Iraqi government.” He said that the group can’t be taken at face value, and he added, “they’re not the only group that has been attacking us.”', 'Biden, meanwhile, is set to attend the somber return of the fallen troops to U.S. soil on Friday at Dover Air Force Base in Delaware, known as a dignified transfer, the White House announced.', 'Any \\nadditional American strikes could further inflame a region already roiled by \\nIsrael’s ongoing war on Hamas in the Gaza Strip. The war began with Hamas \\nattacking Israel on Oct. 7, killing some 1,200 people and taking about 250 hostage. Since then, Israeli strikes have killed \\nmore than 26,000 Palestinians and displaced nearly 2 million others from their homes, arousing anger throughout the Muslim world.', 'Violence has erupted across the Mideast, with Iran striking targets in Iraq, Pakistan and Syria, and the U.S. carrying out airstrikes targeting Yemen’s Houthi rebels over their attacks shipping in the Red Sea. Some observers fear a new round of strikes targeting Iran could tip the region into a wider war.', 'A U.S. Navy destroyer in the waterway shot down an anti-ship cruise missile launched by \\nthe Houthis late Tuesday, the latest attack \\ntargeting American forces patrolling the key maritime trade route, officials said. The U.S. later launched a new round of airstrikes targeting the Houthis.', 'The Iranian warnings first came from \\nAmir Saeid Iravani, Iran’s ambassador to the United Nations in New York. He gave a briefing to Iranian journalists late Tuesday, according to the state-run IRNA news agency.', '“The Islamic Republic would decisively respond to any attack on the county, its interests and nationals under any pretexts,” IRNA quoted Iravani as saying. He described any possible Iranian retaliation as a “strong response,” without elaborating.', 'The Iranian mission to the U.N. did not respond to requests for comment or elaboration Wednesday on Iravani’s remarks.', 'Iravani also denied that Iran and the U.S. had exchanged any messages over the last few days, either through intermediaries or directly. The pan-Arab satellite channel Al Jazeera, which is based in and funded by Qatar, reported earlier that such communication had taken place. Qatar often serves as an intermediary between Washington and Tehran.', '“Such messages have not been exchanged,” Iravani said.', 'But Iran’s government has taken note of the U.S. threats of retaliation for the attack on the base in Jordan.', '“Sometime, our enemies raise the threat, and nowadays we hear some threats in between words by American officials,” Revolutionary Guard commander Gen. Hossein Salami, who answers only to Supreme Leader \\nAyatollah Ali Khamenei, said at an event Wednesday. “We tell them that you have experienced us, and we know each other. We do not leave any threat without an answer.”', '“We are not after war, but we have no fear of war,” he added, according to IRNA.', 'Kirby, for his part, said the U.S. doesn’t “seek a war with Iran. We’re not looking for a broader conflict.”', 'On Saturday, a general in charge of Iran’s air defenses described them as being at their “highest defensive readiness.” That raises concerns for commercial aviation traveling through and over Iran as well. After a \\nU.S. drone strike killed a top general in 2020, Iranian air defenses mistakenly shot down a Ukrainian passenger plane, killing all 176 people on board.', 'Meanwhile, attacks by the Iranian-backed Houthi rebels continue in the Red Sea, most recently targeting a U.S. warship. The missile launched Tuesday night targeted the USS Gravely, an Arleigh Burke-class guided missile destroyer, the U.S. military’s Central Command said in a statement. No injuries or damage were reported.', 'A Houthi military spokesman, Brig. Gen. Yahya Saree, claimed responsibility for the attack in a statement Wednesday morning, calling it “a victory for the oppression of the Palestinian people and a response to the American-British aggression against our country.”', 'Saree claimed \\nthe Houthis fired “several” missiles, something not acknowledged by the U.S. Navy. Houthi claims have been exaggerated in the past, and their missiles sometimes crash on land and fail to reach their targets.', 'The Houthis claimed without evidence on Monday to have targeted the USS Lewis B. Puller, a floating landing base used by the Navy SEALs and others. The U.S. said there had been no attack.', 'On Wednesday, a U.S. military jet struck a surface-to-air missile that was about to launch from Houthi-controlled Yemen, a U.S. official said. The missile was deemed an immediate threat and destroyed. The official spoke on the condition of anonymity to provide details ahead of a public announcement.', 'Since November, the rebels have repeatedly targeted ships in the Red Sea over \\nIsrael’s offensive against Hamas in Gaza. But they have frequently targeted vessels with tenuous or no clear links to Israel, imperiling shipping in \\na key route for global trade between Asia, the Mideast and Europe.', 'The Houthis hit a commercial vessel with a missile on Friday, \\nsparking a fire that burned for hours.', 'The U.S. and the United Kingdom have launched multiple rounds of airstrikes targeting the Houthis as allied warships patrol the waterways affected by the attacks. The European Union also plans to \\nlaunch a naval mission in the Red Sea within three weeks to help defend cargo ships against the Houthi attacks, the bloc’s top diplomat said Wednesday.']})])"
      ]
     },
     "execution_count": 5,
     "metadata": {},
     "output_type": "execute_result"
    }
   ],
   "source": [
    "politics_data.items()"
   ]
  },
  {
   "cell_type": "code",
   "execution_count": 6,
   "metadata": {},
   "outputs": [],
   "source": [
    "politics_text_1 = politics_data['gender_poll']\n",
    "politics_text_2 = politics_data['iraq_jordan']\n",
    "politics_text_3 = politics_data['jordan_attack']\n",
    "politics_text_4 = politics_data['us_steel_sale']"
   ]
  },
  {
   "cell_type": "code",
   "execution_count": 7,
   "metadata": {},
   "outputs": [
    {
     "name": "stdout",
     "output_type": "stream",
     "text": [
      "{'headline': '\\nGender gap expands between Biden and Trump, new poll shows\\n', 'paragraphs': ['The gender gap is growing between supporters of President Joe Biden and former President Donald Trump, according to a new Quinnipiac University \\npoll of registered voters.', 'And that’s good news for the Democratic incumbent: Biden holds a slight lead over Trump in Wednesday’s 2024 presidential election poll, 50 percent to 44 percent. The same matchup was “too close to call” just a month ago.', 'More women said they would support Biden over Trump in this latest survey, with 58 percent backing Biden and 36 percent backing Trump. Last month, the Quinnipiac poll found 53 percent of women supported the incumbent Democrat, compared to 41 percent for the Republican challenger.', 'The numbers were relatively unchanged for men — 53 percent of men said they’d vote for Trump and 42 percent chose Biden in the latest poll, compared to 51 percent for Biden and 41 percent for Trump in December.', '“The gender demographic tells a story to keep an eye on,” Quinnipiac University polling analyst Tim Malloy said in a statement. “Propelled by female voters in just the past few weeks, the head-to-head tie with Trump morphs into a modest lead for Biden.”', 'It’s a different story for former South Carolina Gov. Nikki Haley, who trails far behind Trump in the Republican primary. The poll found Haley would do better than Trump in a general election, with 47 percent of respondents supporting Haley and 42 percent supporting Biden.', 'Haley’s support comes largely from independents, with 53 percent saying they’d vote for her. Another 37 percent would back Biden. In the same poll, 52 percent of independents said they’d support Biden over Trump, who’d have the support of 40 percent of respondents.', '“In a head-to-head matchup against Biden, Haley outperforms Trump, thanks to independents,” Malloy said. “Add third party candidates to the mix and her numbers slip in part because of her weakness among Republicans.”', 'The poll surveyed 1,650 self-identified registered voters nationwide from Jan. 25 to 29, with a margin of error of plus-or-minus 2.4 percentage points. Surveys conducted by Quinnipiac University are based on random sampling.']}\n"
     ]
    }
   ],
   "source": [
    "print(politics_text_1)"
   ]
  },
  {
   "cell_type": "code",
   "execution_count": 8,
   "metadata": {},
   "outputs": [],
   "source": [
    "medicine_text_1 = medicine_data['burnout_risk']\n",
    "medicine_text_2 = medicine_data['early_bone_loss']\n",
    "medicine_text_3 = medicine_data['impact_weight_juices']\n",
    "medicine_text_4 = medicine_data['risk_healthcare_workers']\n"
   ]
  },
  {
   "cell_type": "code",
   "execution_count": 9,
   "metadata": {},
   "outputs": [],
   "source": [
    "sports_text_1 = sports_data['bopanna_ao']\n",
    "sports_text_2 = sports_data['f1_lewis_hamilton']\n",
    "sports_text_3 = sports_data['nagal_ao']\n",
    "sports_text_4 = sports_data['virat_kohli']"
   ]
  },
  {
   "cell_type": "code",
   "execution_count": 10,
   "metadata": {},
   "outputs": [
    {
     "data": {
      "text/plain": [
       "{'headline': \"India Celebrates Rohan Bopanna's Record-Breaking Australian Open Triumph at 43\",\n",
       " 'paragraphs': [\"Congratulatory messages poured in for India's 43-years-'young' tennis star – Rohan Bopanna – who scripted a new world record by winning the men's doubles title at the Australian Open, alongside his Australian partner, Matthew Ebden. With this victory, Bopanna is now the oldest male player to win a Grand Slam title, breaking the record of Dutch player Jean-Julien Rojer.\",\n",
       "  \"Bopanna won the Australian Open men's doubles title – which also happens to be his maiden men's doubles Grand Slam triumph – by beating the Italian pair of Simone Bolelli and Andrea Vavassori.\",\n",
       "  'Following his triumph, Indians from all fields – ranging from Prime Minister Narendra Modi to cricketers and authors – congratulated Bopanna on his remarkable achievement. Here is how the nation celebrated the victory:',\n",
       "  \"ð\\x9d\\x90\\x82ð\\x9d\\x90\\x87ð\\x9d\\x90\\x80ð\\x9d\\x90\\x8cð\\x9d\\x90\\x8fð\\x9d\\x90\\x88ð\\x9d\\x90\\x8eð\\x9d\\x90\\x8dð\\x9d\\x90\\x92: ð\\x9d\\x91\\x83ð\\x9d\\x91\\x99ð\\x9d\\x91\\x8eð\\x9d\\x91¦ð\\x9d\\x91\\x92ð\\x9d\\x91\\x91 ð\\x9d\\x90¿ð\\x9d\\x91\\x96ð\\x9d\\x91\\x98ð\\x9d\\x91\\x92 ð\\x9d\\x91\\x82ð\\x9d\\x91\\x9bð\\x9d\\x91\\x92 & ð\\x9d\\x91\\x8að\\x9d\\x91\\x9cð\\x9d\\x91\\x9b ð\\x9d\\x91\\x96ð\\x9d\\x91¡ ð\\x9d\\x91\\x99ð\\x9d\\x91\\x96ð\\x9d\\x91\\x98ð\\x9d\\x91\\x92 ð\\x9d\\x91\\x82ð\\x9d\\x91\\x9bð\\x9d\\x91\\x92ð\\x9f\\x8f\\x86Huge applause to @rohanbopanna and @mattebden for clinching their 1st Grand Slam as a duo- #AO2024 Men's Doubles Title! ð\\x9f\\x87®ð\\x9f\\x87³ð\\x9f\\x87¦ð\\x9f\\x87ºð\\x9f\\x8f\\x86Rohan Bopanna, defying odds at 4â\\x83£3â\\x83£ winning his maiden #AusOpen titleâ\\x80¦ pic.twitter.com/UePj3QOuIh\",\n",
       "  'Rohan Bopanna Legend ð\\x9f«¡ Thatâ\\x80\\x99s the tweet ð\\x9f\\x99\\x87â\\x80\\x8dâ\\x99\\x82ï¸\\x8f @rohanbopanna pic.twitter.com/jdp4IFk4J2',\n",
       "  'World Number One ranking in doubles and his first menâ\\x80\\x99s  Grand Slam. Bravo Bopanna at 43 ! https://t.co/EH0QrH6goT',\n",
       "  \"Rohan Bopanna, 43, becomes the oldest to win Men'a Doubles Australian Open title. Wowww. #AusOpen https://t.co/H326BLVbme\",\n",
       "  '(At The Quint, we are answerable only to our audience. Play an active role in shaping our journalism by becoming a member. Because the truth is worth it.)',\n",
       "  'Loading Comments...']}"
      ]
     },
     "execution_count": 10,
     "metadata": {},
     "output_type": "execute_result"
    }
   ],
   "source": [
    "sports_text_1"
   ]
  },
  {
   "cell_type": "code",
   "execution_count": 55,
   "metadata": {},
   "outputs": [],
   "source": [
    "sports_text1_df = pd.DataFrame.from_dict(sports_text_1)\n",
    "sports_text2_df = pd.DataFrame.from_dict(sports_text_2)\n",
    "sports_text3_df = pd.DataFrame.from_dict(sports_text_3)\n",
    "sports_text4_df = pd.DataFrame.from_dict(sports_text_4)\n",
    "medicine_text1_df = pd.DataFrame.from_dict(medicine_text_1)\n",
    "medicine_text2_df = pd.DataFrame.from_dict(medicine_text_2)\n",
    "medicine_text3_df = pd.DataFrame.from_dict(medicine_text_3)\n",
    "medicine_text4_df = pd.DataFrame.from_dict(medicine_text_4)\n",
    "politics_text1_df = pd.DataFrame.from_dict(politics_text_1)\n",
    "politics_text2_df = pd.DataFrame.from_dict(politics_text_2)\n",
    "politics_text3_df = pd.DataFrame.from_dict(politics_text_3)\n",
    "politics_text4_df = pd.DataFrame.from_dict(politics_text_4)"
   ]
  },
  {
   "cell_type": "code",
   "execution_count": 56,
   "metadata": {},
   "outputs": [],
   "source": [
    "import pandas as pd\n",
    "import re \n",
    "import string\n"
   ]
  },
  {
   "cell_type": "code",
   "execution_count": 57,
   "metadata": {},
   "outputs": [],
   "source": [
    "def clean_text_round1(text):\n",
    "    '''Make text lowercase, remove text in square brackets, remove punctuation and remove words containing numbers.'''\n",
    "    text = text.lower()\n",
    "    text = re.sub(r\"\\[[^\\]]*\\]\", \"\", text) \n",
    "    # text = re.sub(r\"^[\\w\\s]\", \"\", text)\n",
    "    # text = re.sub(r\"\\w*\\d+\\w*\", \"\", text)\n",
    "    text = re.sub('[‘’“”…]', '', text)\n",
    "    text = re.sub('\\n', ' ', text)\n",
    "    text = re.sub(r'[^A-Za-z0-9\\s]', '',text)\n",
    "    text = re.sub(r'\\s+', ' ', text)    \n",
    "    text = re.sub(r'\\b\\w*\\d\\w*\\b(?<!-)', '', text)\n",
    "\n",
    "    return text\n",
    "clean_text = lambda x: clean_text_round1(x)"
   ]
  },
  {
   "cell_type": "code",
   "execution_count": 58,
   "metadata": {},
   "outputs": [],
   "source": [
    "\n",
    "sports_text1_cleaned = pd.DataFrame(sports_text1_df.paragraphs.apply(clean_text))\n",
    "sports_text1_cleaned['paragraphs'][0]\n",
    "sports_text2_cleaned = pd.DataFrame(sports_text2_df.paragraphs.apply(clean_text))\n",
    "sports_text3_cleaned = pd.DataFrame(sports_text3_df.paragraphs.apply(clean_text))\n",
    "sports_text4_cleaned = pd.DataFrame(sports_text4_df.paragraphs.apply(clean_text))\n",
    "medicine_text1_cleaned = pd.DataFrame(medicine_text1_df.paragraphs.apply(clean_text))\n",
    "medicine_text2_cleaned = pd.DataFrame(medicine_text2_df.paragraphs.apply(clean_text))\n",
    "medicine_text3_cleaned = pd.DataFrame(medicine_text3_df.paragraphs.apply(clean_text))\n",
    "medicine_text4_cleaned = pd.DataFrame(medicine_text4_df.paragraphs.apply(clean_text))\n",
    "politics_text1_cleaned = pd.DataFrame(politics_text1_df.paragraphs.apply(clean_text))\n",
    "politics_text2_cleaned = pd.DataFrame(politics_text2_df.paragraphs.apply(clean_text))\n",
    "politics_text3_cleaned = pd.DataFrame(politics_text3_df.paragraphs.apply(clean_text))\n",
    "politics_text4_cleaned = pd.DataFrame(politics_text4_df.paragraphs.apply(clean_text))"
   ]
  },
  {
   "cell_type": "code",
   "execution_count": 72,
   "metadata": {},
   "outputs": [
    {
     "data": {
      "text/plain": [
       "'rohan bopanna  becomes the oldest to win mena doubles australian open title wowww ausopen '"
      ]
     },
     "execution_count": 72,
     "metadata": {},
     "output_type": "execute_result"
    }
   ],
   "source": [
    "sports_text1_df.headline[0]\n",
    "medicine_text1_headline = clean_text(medicine_text1_df.headline[0])\n",
    "medicine_text1_headline\n",
    "sports_text1_cleaned\n",
    "sports_text1_cleaned['paragraphs'][6]"
   ]
  },
  {
   "cell_type": "code",
   "execution_count": 68,
   "metadata": {},
   "outputs": [
    {
     "name": "stdout",
     "output_type": "stream",
     "text": [
      "{'headline': 'india celebrates rohan bopannas recordbreaking australian open triumph at ', 'df':                                           paragraphs\n",
      "0  congratulatory messages poured in for indias  ...\n",
      "1  bopanna won the australian open mens doubles t...\n",
      "2  following his triumph indians from all fields ...\n",
      "3   huge applause to rohanbopanna and mattebden f...\n",
      "4  rohan bopanna legend thats the tweet rohanbopa...\n",
      "5  world number one ranking in doubles and his fi...\n",
      "6  rohan bopanna  becomes the oldest to win mena ...\n",
      "7  at the quint we are answerable only to our aud...\n",
      "8                                   loading comments}\n"
     ]
    }
   ],
   "source": [
    "sports_text1 = {\n",
    "    'headline': clean_text(sports_text1_df.headline[0]), \n",
    "    'df': sports_text1_cleaned\n",
    "}\n",
    "print(sports_text1)"
   ]
  },
  {
   "cell_type": "code",
   "execution_count": 69,
   "metadata": {},
   "outputs": [],
   "source": [
    "\n",
    "sports_text2 = {\n",
    "    'headline': clean_text(sports_text2_df.headline[0]), \n",
    "    'df': sports_text2_cleaned\n",
    "}\n",
    "sports_text3 = {\n",
    "    'headline': clean_text(sports_text3_df.headline[0]), \n",
    "    'df': sports_text3_cleaned\n",
    "}\n",
    "sports_text4 = {\n",
    "    'headline': clean_text(sports_text4_df.headline[0]), \n",
    "    'df': sports_text4_cleaned\n",
    "}\n",
    "medicine_text1 = {\n",
    "    'headline': clean_text(medicine_text1_df.headline[0]), \n",
    "    'df': medicine_text1_cleaned\n",
    "}\n",
    "medicine_text2 = {\n",
    "    'headline': clean_text(medicine_text2_df.headline[0]), \n",
    "    'df': medicine_text1_cleaned\n",
    "}\n",
    "medicine_text3 = {\n",
    "    'headline': clean_text(medicine_text3_df.headline[0]), \n",
    "    'df': medicine_text1_cleaned\n",
    "}\n",
    "medicine_text4 = {\n",
    "    'headline': clean_text(medicine_text4_df.headline[0]), \n",
    "    'df': medicine_text1_cleaned\n",
    "}\n",
    "politics_text1 = {\n",
    "    'headline': clean_text(politics_text1_df.headline[0]), \n",
    "    'df': politics_text1_cleaned\n",
    "}\n",
    "politics_text2 = {\n",
    "    'headline': clean_text(politics_text2_df.headline[0]), \n",
    "    'df': politics_text2_cleaned\n",
    "}\n",
    "politics_text3 = {\n",
    "    'headline': clean_text(politics_text3_df.headline[0]), \n",
    "    'df': politics_text3_cleaned\n",
    "}\n",
    "politics_text4 = {\n",
    "    'headline': clean_text(politics_text4_df.headline[0]), \n",
    "    'df': politics_text4_cleaned\n",
    "}"
   ]
  },
  {
   "cell_type": "code",
   "execution_count": 71,
   "metadata": {},
   "outputs": [
    {
     "ename": "TypeError",
     "evalue": "'list' object cannot be interpreted as an integer",
     "output_type": "error",
     "traceback": [
      "\u001b[1;31m---------------------------------------------------------------------------\u001b[0m",
      "\u001b[1;31mTypeError\u001b[0m                                 Traceback (most recent call last)",
      "Cell \u001b[1;32mIn[71], line 5\u001b[0m\n\u001b[0;32m      2\u001b[0m medicine_texts \u001b[38;5;241m=\u001b[39m [medicine_text1, medicine_text2, medicine_text3, medicine_text4]\n\u001b[0;32m      3\u001b[0m politics_texts \u001b[38;5;241m=\u001b[39m [politics_text1, politics_text2, politics_text3, politics_text4]\n\u001b[1;32m----> 5\u001b[0m \u001b[38;5;28;01mfor\u001b[39;00m i \u001b[38;5;129;01min\u001b[39;00m \u001b[38;5;28;43mrange\u001b[39;49m\u001b[43m(\u001b[49m\u001b[43msports_texts\u001b[49m\u001b[43m)\u001b[49m:\n\u001b[0;32m      6\u001b[0m     \u001b[38;5;28;01mwith\u001b[39;00m \u001b[38;5;28mopen\u001b[39m(\u001b[38;5;124m\"\u001b[39m\u001b[38;5;124mmedicine_text/medicine_text\u001b[39m\u001b[38;5;124m\"\u001b[39m\u001b[38;5;241m+\u001b[39mi\u001b[38;5;241m+\u001b[39m\u001b[38;5;124m\"\u001b[39m\u001b[38;5;124m.txt\u001b[39m\u001b[38;5;124m\"\u001b[39m, \u001b[38;5;124m\"\u001b[39m\u001b[38;5;124mwb\u001b[39m\u001b[38;5;124m\"\u001b[39m) \u001b[38;5;28;01mas\u001b[39;00m file: \n\u001b[0;32m      7\u001b[0m         pickle\u001b[38;5;241m.\u001b[39mdump(sports_texts[i], file)\n",
      "\u001b[1;31mTypeError\u001b[0m: 'list' object cannot be interpreted as an integer"
     ]
    }
   ],
   "source": [
    "sports_texts = [sports_text1, sports_text2, sports_text3, sports_text4]\n",
    "medicine_texts = [medicine_text1, medicine_text2, medicine_text3, medicine_text4]\n",
    "politics_texts = [politics_text1, politics_text2, politics_text3, politics_text4]\n",
    "\n",
    "for i in range(sports_texts):\n",
    "    with open(\"medicine_text/medicine_text\"+i+\".txt\", \"wb\") as file: \n",
    "        pickle.dump(sports_texts[i], file)\n",
    "for i in range(medicine_texts):\n",
    "    with open(\"sports_text/sports_text\"+i+\".txt\", \"wb\") as file: \n",
    "        pickle.dump(medicine_texts[i], file)\n",
    "for i  in range(politics_texts):\n",
    "    with open(\"politics_text/politics_text\"+i+\".txt\", \"wb\") as file: \n",
    "        pickle.dump(politics_texts[i], file)\n"
   ]
  }
 ],
 "metadata": {
  "kernelspec": {
   "display_name": "Python 3",
   "language": "python",
   "name": "python3"
  },
  "language_info": {
   "codemirror_mode": {
    "name": "ipython",
    "version": 3
   },
   "file_extension": ".py",
   "mimetype": "text/x-python",
   "name": "python",
   "nbconvert_exporter": "python",
   "pygments_lexer": "ipython3",
   "version": "3.11.3"
  }
 },
 "nbformat": 4,
 "nbformat_minor": 2
}
